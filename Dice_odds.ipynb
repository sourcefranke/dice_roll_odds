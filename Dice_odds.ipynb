{
  "nbformat": 4,
  "nbformat_minor": 0,
  "metadata": {
    "colab": {
      "provenance": [],
      "toc_visible": true,
      "authorship_tag": "ABX9TyPcSYdlerRMpW61vDSYckQF"
    },
    "kernelspec": {
      "name": "python3",
      "display_name": "Python 3"
    },
    "language_info": {
      "name": "python"
    }
  },
  "cells": [
    {
      "cell_type": "markdown",
      "source": [
        "# Calculating the odds for dice rolls\n",
        "This notebook I deal with the odds for dice rolls known from many board games."
      ],
      "metadata": {
        "id": "253kUa6zPPU1"
      }
    },
    {
      "cell_type": "markdown",
      "source": [
        "## Supporting functions\n",
        "For further analysis the following functions will be used several times."
      ],
      "metadata": {
        "id": "NdhoDJYl4igm"
      }
    },
    {
      "cell_type": "markdown",
      "source": [
        "### Define the dice\n",
        "The most common type of dice in game is the one with 6 numbers on it.\n",
        "\n",
        "In Python syntax, you simply can use a range() to get a list of all the possible outcomes for a dice roll."
      ],
      "metadata": {
        "id": "Uwu5wpOcBQRz"
      }
    },
    {
      "cell_type": "code",
      "source": [
        "d6 = range(1, 7)\n",
        "\n",
        "for x in d6: print(x)"
      ],
      "metadata": {
        "id": "5BQeEC6uGHSx",
        "colab": {
          "base_uri": "https://localhost:8080/"
        },
        "outputId": "dbc6531f-ce3d-49a8-b48e-e4e0545d7b2d"
      },
      "execution_count": 222,
      "outputs": [
        {
          "output_type": "stream",
          "name": "stdout",
          "text": [
            "1\n",
            "2\n",
            "3\n",
            "4\n",
            "5\n",
            "6\n"
          ]
        }
      ]
    },
    {
      "cell_type": "markdown",
      "source": [
        "### Drawing a diagram\n",
        "matplotlib helps with drawing a diagram for given values."
      ],
      "metadata": {
        "id": "Aapx30YI44I4"
      }
    },
    {
      "cell_type": "code",
      "execution_count": 223,
      "metadata": {
        "id": "anYKcsCJO0no"
      },
      "outputs": [],
      "source": [
        "import matplotlib.pyplot as plt\n",
        "import pprint as pp\n",
        "\n",
        "def plot(data, title):\n",
        "  plt.title(title)\n",
        "  plt.xlabel(\"Roll\")\n",
        "  plt.ylabel(\"Occurence\")\n",
        "  plt.bar(data.keys(), data.values())\n",
        "  plt.show()\n",
        "\n",
        "  pp.pprint(data)"
      ]
    },
    {
      "cell_type": "markdown",
      "source": [
        "### Cartesian product\n",
        "\n",
        "For determining all possible combinations for a roll, we need the cartesian product."
      ],
      "metadata": {
        "id": "h8PsK3SB4YyW"
      }
    },
    {
      "cell_type": "code",
      "source": [
        "def cartesian(dice, numberDices = 1, acc_func = lambda x, y: x + y):\n",
        "  \"\"\"\n",
        "  Two lists to combine with each other.\n",
        "  Parameters:\n",
        "    first (list of ints): first list\n",
        "    second (list of ints): second list\n",
        "  Returns:\n",
        "    acc_func (function): function taking two parameters for accumulating\n",
        "                         the elements both lists into one\n",
        "  \"\"\"\n",
        "  if(numberDices < 1):\n",
        "      return []\n",
        "  \n",
        "  if(numberDices == 1):\n",
        "    return dice\n",
        "\n",
        "  accumulated = []\n",
        "  for x in cartesian(dice, numberDices - 1, acc_func):\n",
        "    for y in dice:\n",
        "      accumulated.append(acc_func(x, y))\n",
        "\n",
        "  return accumulated"
      ],
      "metadata": {
        "id": "fvk0dnNL3aNN"
      },
      "execution_count": 224,
      "outputs": []
    },
    {
      "cell_type": "markdown",
      "source": [
        "This could be some example of using the function:"
      ],
      "metadata": {
        "id": "bJU_Sm1mGY8n"
      }
    },
    {
      "cell_type": "code",
      "source": [
        "print(cartesian(list(d6)))\n",
        "print(cartesian([1,2,3], 2))"
      ],
      "metadata": {
        "colab": {
          "base_uri": "https://localhost:8080/"
        },
        "id": "d1O5lGVwGap4",
        "outputId": "3efbfa2a-c4c4-483f-c7eb-908b37637007"
      },
      "execution_count": 225,
      "outputs": [
        {
          "output_type": "stream",
          "name": "stdout",
          "text": [
            "[1, 2, 3, 4, 5, 6]\n",
            "[2, 3, 4, 3, 4, 5, 4, 5, 6]\n"
          ]
        }
      ]
    },
    {
      "cell_type": "markdown",
      "source": [
        "In addition, in case of an neccessary alternate way of accumulating numbers, we could for example want to multiply the numbers instead of getting the sum."
      ],
      "metadata": {
        "id": "FjCktcBzGg3X"
      }
    },
    {
      "cell_type": "code",
      "source": [
        "print(cartesian(d6, 2, lambda x, y: x * y))"
      ],
      "metadata": {
        "colab": {
          "base_uri": "https://localhost:8080/"
        },
        "id": "EhpHXxqHGeTH",
        "outputId": "749982e3-98fa-4243-f18f-dcfc7e737c49"
      },
      "execution_count": 226,
      "outputs": [
        {
          "output_type": "stream",
          "name": "stdout",
          "text": [
            "[1, 2, 3, 4, 5, 6, 2, 4, 6, 8, 10, 12, 3, 6, 9, 12, 15, 18, 4, 8, 12, 16, 20, 24, 5, 10, 15, 20, 25, 30, 6, 12, 18, 24, 30, 36]\n"
          ]
        }
      ]
    },
    {
      "cell_type": "markdown",
      "source": [
        "### Group different results\n",
        "In addition to determining all the different results, now we need to count the amount of every distinct outcome."
      ],
      "metadata": {
        "id": "yrFskC_sfS0i"
      }
    },
    {
      "cell_type": "code",
      "source": [
        "def groupNumbers(unorderedList):\n",
        "  \"\"\"\n",
        "  Parameters:\n",
        "    unorderedList (list of ints): unordered list of all individual outcomes\n",
        "  Resturns:\n",
        "    a dictionary with distinct outcomes and their number of occurences in the original list\n",
        "  \"\"\"\n",
        "  dictionary = {}\n",
        "  for x in unorderedList:\n",
        "    if(x in dictionary.keys()):\n",
        "      dictionary[x] = dictionary[x] + 1\n",
        "    else:\n",
        "      dictionary[x] = 1\n",
        "\n",
        "  return dictionary"
      ],
      "metadata": {
        "id": "fFl7uk_pf2Kp"
      },
      "execution_count": 227,
      "outputs": []
    },
    {
      "cell_type": "markdown",
      "source": [
        "An examplary result could look like this:"
      ],
      "metadata": {
        "id": "4oDa1Vp1GN63"
      }
    },
    {
      "cell_type": "code",
      "source": [
        "testData = [6,1,2,3,2,4,5,2,3,1,5,6,1,6,2,6,3]\n",
        "plot(groupNumbers(testData), \"Group test data\")"
      ],
      "metadata": {
        "colab": {
          "base_uri": "https://localhost:8080/",
          "height": 312
        },
        "id": "LrJ7LL0HGP0I",
        "outputId": "23495d7f-ced0-4852-f827-6314fd5a73fa"
      },
      "execution_count": 228,
      "outputs": [
        {
          "output_type": "display_data",
          "data": {
            "text/plain": [
              "<Figure size 432x288 with 1 Axes>"
            ],
            "image/png": "[encoded data removed]"
          },
          "metadata": {
            "needs_background": "light"
          }
        },
        {
          "output_type": "stream",
          "name": "stdout",
          "text": [
            "{1: 3, 2: 4, 3: 3, 4: 1, 5: 2, 6: 4}\n"
          ]
        }
      ]
    },
    {
      "cell_type": "markdown",
      "source": [
        "### Odds\n",
        "Based on the amount of every distinct single result, we now can calculate the probability of every distinct result of a dice roll."
      ],
      "metadata": {
        "id": "V9frpVbXk-h5"
      }
    },
    {
      "cell_type": "code",
      "source": [
        "def odds(grouped):\n",
        "  \"\"\"\n",
        "  Parameters:\n",
        "    grouped (dictionary of ints): dictionary of possible outcomes with their number of occurence\n",
        "  Resturns:\n",
        "    a dictionary with distinct outcomes and their probability of occurence based on the original list\n",
        "  \"\"\"\n",
        "  total = sum(grouped.values())\n",
        "\n",
        "  result = {}\n",
        "  for k in grouped.keys():\n",
        "    result[k] = grouped[k] / total\n",
        "\n",
        "  return result"
      ],
      "metadata": {
        "id": "KPqQ38dwlgH9"
      },
      "execution_count": 229,
      "outputs": []
    },
    {
      "cell_type": "markdown",
      "source": [
        "### Advantage\n",
        "iN some sort of game, e.g. in **Dungeons & Dragons**, there is the concept of an advantage roll. That means, you do roll twice and the ***better*** result counts!"
      ],
      "metadata": {
        "id": "KU5wt7ZTHfoz"
      }
    },
    {
      "cell_type": "code",
      "source": [
        "def advantage(dice, number):\n",
        "  return cartesian(cartesian(dice, number), 2, max)"
      ],
      "metadata": {
        "id": "7Nr3kNttHm7S"
      },
      "execution_count": 230,
      "outputs": []
    },
    {
      "cell_type": "markdown",
      "source": [
        "### Putting steps together\n",
        "Now, for reasons of simplicity in further usage of all the previous functions shown, let's combine their call into one single function."
      ],
      "metadata": {
        "id": "WrIeHl2J6bsu"
      }
    },
    {
      "cell_type": "code",
      "source": [
        "def calc(dice, number = 1, func = lambda x, n: cartesian(x, n)):\n",
        "  unordered = func(dice, number)\n",
        "  grouped = groupNumbers(unordered)\n",
        "  return odds(grouped)"
      ],
      "metadata": {
        "id": "Tk31-f4r13Sr"
      },
      "execution_count": 231,
      "outputs": []
    },
    {
      "cell_type": "markdown",
      "source": [
        "Based on the first example, these are the odds for all the distinct results:"
      ],
      "metadata": {
        "id": "-8iLBxTULhcP"
      }
    },
    {
      "cell_type": "code",
      "source": [
        "plot(calc(testData), \"Odds for test data\")"
      ],
      "metadata": {
        "colab": {
          "base_uri": "https://localhost:8080/",
          "height": 399
        },
        "id": "x5gK-urMLi7-",
        "outputId": "83124aaa-4e85-4cfd-b53d-73f60f5ac775"
      },
      "execution_count": 232,
      "outputs": [
        {
          "output_type": "display_data",
          "data": {
            "text/plain": [
              "<Figure size 432x288 with 1 Axes>"
            ],
            "image/png": "[encoded data removed]"
          },
          "metadata": {
            "needs_background": "light"
          }
        },
        {
          "output_type": "stream",
          "name": "stdout",
          "text": [
            "{1: 0.17647058823529413,\n",
            " 2: 0.23529411764705882,\n",
            " 3: 0.17647058823529413,\n",
            " 4: 0.058823529411764705,\n",
            " 5: 0.11764705882352941,\n",
            " 6: 0.23529411764705882}\n"
          ]
        }
      ]
    },
    {
      "cell_type": "markdown",
      "source": [
        "## Scenarios\n",
        "Now, let's look at different scenarios of rolling dice!"
      ],
      "metadata": {
        "id": "6xDqAzuADZ3t"
      }
    },
    {
      "cell_type": "markdown",
      "source": [
        "### Normal\n"
      ],
      "metadata": {
        "id": "3EGMw2eBwaZN"
      }
    },
    {
      "cell_type": "markdown",
      "source": [
        "#### 1 dice"
      ],
      "metadata": {
        "id": "hZsYD1Dy_nG8"
      }
    },
    {
      "cell_type": "code",
      "source": [
        "plot(calc(d6), \"Odds for one dice\")"
      ],
      "metadata": {
        "id": "QE0V2ZbpwXzV",
        "colab": {
          "base_uri": "https://localhost:8080/",
          "height": 399
        },
        "outputId": "cf67b696-b38c-499b-dddd-3fd2bad18601"
      },
      "execution_count": 233,
      "outputs": [
        {
          "output_type": "display_data",
          "data": {
            "text/plain": [
              "<Figure size 432x288 with 1 Axes>"
            ],
            "image/png": "[encoded data removed]"
          },
          "metadata": {
            "needs_background": "light"
          }
        },
        {
          "output_type": "stream",
          "name": "stdout",
          "text": [
            "{1: 0.16666666666666666,\n",
            " 2: 0.16666666666666666,\n",
            " 3: 0.16666666666666666,\n",
            " 4: 0.16666666666666666,\n",
            " 5: 0.16666666666666666,\n",
            " 6: 0.16666666666666666}\n"
          ]
        }
      ]
    },
    {
      "cell_type": "markdown",
      "source": [
        "#### 2 dices"
      ],
      "metadata": {
        "id": "m_GPLkhl_iqb"
      }
    },
    {
      "cell_type": "code",
      "source": [
        "plot(calc(d6, 2), \"Odds for two dices\")"
      ],
      "metadata": {
        "id": "zDtU6ZKCw67M",
        "colab": {
          "base_uri": "https://localhost:8080/",
          "height": 486
        },
        "outputId": "2cc5fdf2-ad96-40bf-ae33-564654a5e338"
      },
      "execution_count": 234,
      "outputs": [
        {
          "output_type": "display_data",
          "data": {
            "text/plain": [
              "<Figure size 432x288 with 1 Axes>"
            ],
            "image/png": "[encoded data removed]"
          },
          "metadata": {
            "needs_background": "light"
          }
        },
        {
          "output_type": "stream",
          "name": "stdout",
          "text": [
            "{2: 0.027777777777777776,\n",
            " 3: 0.05555555555555555,\n",
            " 4: 0.08333333333333333,\n",
            " 5: 0.1111111111111111,\n",
            " 6: 0.1388888888888889,\n",
            " 7: 0.16666666666666666,\n",
            " 8: 0.1388888888888889,\n",
            " 9: 0.1111111111111111,\n",
            " 10: 0.08333333333333333,\n",
            " 11: 0.05555555555555555,\n",
            " 12: 0.027777777777777776}\n"
          ]
        }
      ]
    },
    {
      "cell_type": "markdown",
      "source": [
        "#### 4 dices"
      ],
      "metadata": {
        "id": "yKvgMM6H_VeT"
      }
    },
    {
      "cell_type": "code",
      "source": [
        "plot(calc(d6, 4), \"Odds for four dices\")"
      ],
      "metadata": {
        "colab": {
          "base_uri": "https://localhost:8080/",
          "height": 660
        },
        "id": "KRI883PW9GoX",
        "outputId": "92939c53-43d3-475e-df35-d9d7d0ec3189"
      },
      "execution_count": 235,
      "outputs": [
        {
          "output_type": "display_data",
          "data": {
            "text/plain": [
              "<Figure size 432x288 with 1 Axes>"
            ],
            "image/png": "[encoded data removed]"
          },
          "metadata": {
            "needs_background": "light"
          }
        },
        {
          "output_type": "stream",
          "name": "stdout",
          "text": [
            "{4: 0.0007716049382716049,\n",
            " 5: 0.0030864197530864196,\n",
            " 6: 0.007716049382716049,\n",
            " 7: 0.015432098765432098,\n",
            " 8: 0.02700617283950617,\n",
            " 9: 0.043209876543209874,\n",
            " 10: 0.06172839506172839,\n",
            " 11: 0.08024691358024691,\n",
            " 12: 0.09645061728395062,\n",
            " 13: 0.10802469135802469,\n",
            " 14: 0.11265432098765432,\n",
            " 15: 0.10802469135802469,\n",
            " 16: 0.09645061728395062,\n",
            " 17: 0.08024691358024691,\n",
            " 18: 0.06172839506172839,\n",
            " 19: 0.043209876543209874,\n",
            " 20: 0.02700617283950617,\n",
            " 21: 0.015432098765432098,\n",
            " 22: 0.007716049382716049,\n",
            " 23: 0.0030864197530864196,\n",
            " 24: 0.0007716049382716049}\n"
          ]
        }
      ]
    },
    {
      "cell_type": "markdown",
      "source": [
        "### With advantage"
      ],
      "metadata": {
        "id": "M7IR-Ew5xCVE"
      }
    },
    {
      "cell_type": "markdown",
      "source": [
        "#### 1 dice"
      ],
      "metadata": {
        "id": "Cv8CRgdh-4fq"
      }
    },
    {
      "cell_type": "code",
      "source": [
        "plot(calc(d6, 1, advantage), \"Odds for one dice with advantage\")"
      ],
      "metadata": {
        "id": "o3nlG6WNw-wa",
        "colab": {
          "base_uri": "https://localhost:8080/",
          "height": 399
        },
        "outputId": "c981e158-d5ca-4595-d84b-fec783d8a8cd"
      },
      "execution_count": 236,
      "outputs": [
        {
          "output_type": "display_data",
          "data": {
            "text/plain": [
              "<Figure size 432x288 with 1 Axes>"
            ],
            "image/png": "[encoded data removed]"
          },
          "metadata": {
            "needs_background": "light"
          }
        },
        {
          "output_type": "stream",
          "name": "stdout",
          "text": [
            "{1: 0.027777777777777776,\n",
            " 2: 0.08333333333333333,\n",
            " 3: 0.1388888888888889,\n",
            " 4: 0.19444444444444445,\n",
            " 5: 0.25,\n",
            " 6: 0.3055555555555556}\n"
          ]
        }
      ]
    },
    {
      "cell_type": "markdown",
      "source": [
        "#### 2 dices"
      ],
      "metadata": {
        "id": "5x9516_8-wSJ"
      }
    },
    {
      "cell_type": "code",
      "source": [
        "plot(calc(d6, 2, advantage), \"Odds for two dices with advantage\")"
      ],
      "metadata": {
        "colab": {
          "base_uri": "https://localhost:8080/",
          "height": 486
        },
        "id": "kfCFAi-RIANA",
        "outputId": "94592117-de01-4c5a-8b51-844e8ffb2adb"
      },
      "execution_count": 237,
      "outputs": [
        {
          "output_type": "display_data",
          "data": {
            "text/plain": [
              "<Figure size 432x288 with 1 Axes>"
            ],
            "image/png": "[encoded data removed]"
          },
          "metadata": {
            "needs_background": "light"
          }
        },
        {
          "output_type": "stream",
          "name": "stdout",
          "text": [
            "{2: 0.0007716049382716049,\n",
            " 3: 0.006172839506172839,\n",
            " 4: 0.020833333333333332,\n",
            " 5: 0.04938271604938271,\n",
            " 6: 0.09645061728395062,\n",
            " 7: 0.16666666666666666,\n",
            " 8: 0.18132716049382716,\n",
            " 9: 0.1728395061728395,\n",
            " 10: 0.14583333333333334,\n",
            " 11: 0.10493827160493827,\n",
            " 12: 0.05478395061728395}\n"
          ]
        }
      ]
    },
    {
      "cell_type": "markdown",
      "source": [
        "#### 4 dices"
      ],
      "metadata": {
        "id": "ESEa7p4c-sFK"
      }
    },
    {
      "cell_type": "code",
      "source": [
        "plot(calc(d6, 4, advantage), \"Odds for four dices with advantage\")"
      ],
      "metadata": {
        "colab": {
          "base_uri": "https://localhost:8080/",
          "height": 660
        },
        "id": "Z1KZJoNu9nQB",
        "outputId": "ad87dd3a-b4f1-4d25-f5a4-305b3c670c4c"
      },
      "execution_count": 238,
      "outputs": [
        {
          "output_type": "display_data",
          "data": {
            "text/plain": [
              "<Figure size 432x288 with 1 Axes>"
            ],
            "image/png": "[encoded data removed]"
          },
          "metadata": {
            "needs_background": "light"
          }
        },
        {
          "output_type": "stream",
          "name": "stdout",
          "text": [
            "{4: 5.953741807651273e-07,\n",
            " 5: 1.4288980338363054e-05,\n",
            " 6: 0.00011907483615302546,\n",
            " 7: 0.0005953741807651272,\n",
            " 8: 0.002188000114311843,\n",
            " 9: 0.0065348270080780365,\n",
            " 10: 0.01581313824112178,\n",
            " 11: 0.03195016003657979,\n",
            " 12: 0.05544422058375248,\n",
            " 13: 0.08418590916018899,\n",
            " 14: 0.11265432098765432,\n",
            " 15: 0.1318634735558604,\n",
            " 16: 0.13745701398414875,\n",
            " 17: 0.12854366712391405,\n",
            " 18: 0.107643651882335,\n",
            " 19: 0.07988492607834172,\n",
            " 20: 0.0518243455647005,\n",
            " 21: 0.03026882335009907,\n",
            " 22: 0.015313023929279074,\n",
            " 23: 0.006158550525834476,\n",
            " 24: 0.0015426145023624447}\n"
          ]
        }
      ]
    }
  ]
}