{
 "nbformat": 4,
 "nbformat_minor": 0,
 "metadata": {
  "colab": {
   "provenance": [],
   "toc_visible": true,
   "authorship_tag": "ABX9TyPcSYdlerRMpW61vDSYckQF"
  },
  "kernelspec": {
   "name": "python3",
   "display_name": "Python 3"
  },
  "language_info": {
   "name": "python"
  }
 },
 "cells": [
  {
   "cell_type": "markdown",
   "source": [
    "# Calculating the odds for dice rolls\n",
    "This notebook I deal with the odds for dice rolls known from many board games."
   ],
   "metadata": {
    "id": "253kUa6zPPU1",
    "pycharm": {
     "name": "#%% md\n"
    }
   }
  },
  {
   "cell_type": "markdown",
   "source": [
    "## Supporting functions\n",
    "For further analysis the following functions will be used several times."
   ],
   "metadata": {
    "id": "NdhoDJYl4igm",
    "pycharm": {
     "name": "#%% md\n"
    }
   }
  },
  {
   "cell_type": "markdown",
   "source": [
    "### Define the dice\n",
    "The most common type of dice in game is the one with 6 numbers on it.\n",
    "\n",
    "In Python syntax, you simply can use a range() to get a list of all the possible outcomes for a die roll."
   ],
   "metadata": {
    "id": "Uwu5wpOcBQRz",
    "pycharm": {
     "name": "#%% md\n"
    }
   }
  },
  {
   "cell_type": "code",
   "source": [
    "d6 = range(1, 7)"
   ],
   "metadata": {
    "id": "5BQeEC6uGHSx",
    "colab": {
     "base_uri": "https://localhost:8080/"
    },
    "outputId": "dbc6531f-ce3d-49a8-b48e-e4e0545d7b2d",
    "pycharm": {
     "name": "#%%\n"
    }
   },
   "execution_count": 1,
   "outputs": []
  },
  {
   "cell_type": "markdown",
   "source": [
    "### Drawing a diagram\n",
    "matplotlib helps with drawing a diagram for given values."
   ],
   "metadata": {
    "id": "Aapx30YI44I4",
    "pycharm": {
     "name": "#%% md\n"
    }
   }
  },
  {
   "cell_type": "code",
   "execution_count": 2,
   "metadata": {
    "id": "anYKcsCJO0no",
    "pycharm": {
     "name": "#%%\n"
    }
   },
   "outputs": [],
   "source": [
    "import matplotlib.pyplot as plt\n",
    "import pprint as pp\n",
    "\n",
    "def plot(data, title):\n",
    "  \"\"\"\n",
    "  :param data: dictionary to be plotted\n",
    "  :param title: individual title for the diagram\n",
    "  \"\"\"\n",
    "  plt.title(title)\n",
    "  plt.xlabel(\"Roll\")\n",
    "  plt.ylabel(\"Occurrence\")\n",
    "  plt.bar(data.keys(), data.values())\n",
    "  plt.show()\n",
    "\n",
    "  pp.pprint(data)"
   ]
  },
  {
   "cell_type": "markdown",
   "source": [
    "### Cartesian product\n",
    "\n",
    "For determining all possible combinations for a roll, we need the cartesian product."
   ],
   "metadata": {
    "id": "h8PsK3SB4YyW",
    "pycharm": {
     "name": "#%% md\n"
    }
   }
  },
  {
   "cell_type": "code",
   "source": [
    "def cartesian(die, number_dice = 1, acc_func = lambda x, y: x + y):\n",
    "  \"\"\"\n",
    "  :param die: list of possible values of one die roll\n",
    "  :param number_dice: how many dice to be used\n",
    "  :param acc_func: function for accumulating the values from both dice\n",
    "  :return: list of all possible combinations of results for the dice roll\n",
    "  \"\"\"\n",
    "  if number_dice < 1:\n",
    "    return []\n",
    "  \n",
    "  if number_dice == 1:\n",
    "    return die\n",
    "\n",
    "  accumulated = []\n",
    "  for x in cartesian(die, number_dice - 1, acc_func):\n",
    "    for y in die:\n",
    "      accumulated.append(acc_func(x, y))\n",
    "\n",
    "  return accumulated"
   ],
   "metadata": {
    "id": "fvk0dnNL3aNN",
    "pycharm": {
     "name": "#%%\n"
    }
   },
   "execution_count": 3,
   "outputs": []
  },
  {
   "cell_type": "markdown",
   "source": [
    "### Group different results\n",
    "In addition to determining all the different results, now we need to count the amount of every distinct outcome."
   ],
   "metadata": {
    "id": "yrFskC_sfS0i",
    "pycharm": {
     "name": "#%% md\n"
    }
   }
  },
  {
   "cell_type": "code",
   "source": [
    "def group_numbers(unordered):\n",
    "  \"\"\"\n",
    "  :param unordered: contains results of die rolls in an unstructured way\n",
    "  :return: grouped dictionary - key: distinct result, value: count of occurrence\n",
    "  \"\"\"\n",
    "  grouped = {}\n",
    "  for x in unordered:\n",
    "    if x in grouped.keys():\n",
    "      grouped[x] = grouped[x] + 1\n",
    "    else:\n",
    "      grouped[x] = 1\n",
    "\n",
    "  return grouped"
   ],
   "metadata": {
    "id": "fFl7uk_pf2Kp",
    "pycharm": {
     "name": "#%%\n"
    }
   },
   "execution_count": 4,
   "outputs": []
  },
  {
   "cell_type": "markdown",
   "source": [
    "### Odds\n",
    "Based on the amount of every distinct single result, we now can calculate the probability of every distinct result of a die roll."
   ],
   "metadata": {
    "id": "V9frpVbXk-h5",
    "pycharm": {
     "name": "#%% md\n"
    }
   }
  },
  {
   "cell_type": "code",
   "source": [
    "def odds(grouped):\n",
    "  \"\"\"\n",
    "  :param grouped: dictionary of possible outcomes with their number of occurrence\n",
    "  :return: a dictionary with distinct results and their probability of occurrence\n",
    "  \"\"\"\n",
    "  total = sum(grouped.values())\n",
    "\n",
    "  result = {}\n",
    "  for k in grouped.keys():\n",
    "    result[k] = grouped[k] / total\n",
    "\n",
    "  return result"
   ],
   "metadata": {
    "id": "KPqQ38dwlgH9",
    "pycharm": {
     "name": "#%%\n"
    }
   },
   "execution_count": 5,
   "outputs": []
  },
  {
   "cell_type": "markdown",
   "source": [
    "### Putting steps together\n",
    "Now, for reasons of simplicity in further usage of all the previous functions shown, let's combine their call into one single function."
   ],
   "metadata": {
    "id": "KU5wt7ZTHfoz",
    "pycharm": {
     "name": "#%% md\n"
    }
   }
  },
  {
   "cell_type": "code",
   "source": [
    "def calc(die, number_dice = 1, roll_func = lambda d, n: cartesian(d, n)):\n",
    "  \"\"\"\n",
    "  :param die: list of possible values of one die roll\n",
    "  :param number_dice: how many dice to be used\n",
    "  :param roll_func: function for determining all possible combinations\n",
    "  :return: a dictionary with distinct results and their probability of occurrence\n",
    "  \"\"\"\n",
    "  unordered = roll_func(die, number_dice)\n",
    "  grouped = group_numbers(unordered)\n",
    "  return odds(grouped)"
   ],
   "metadata": {
    "id": "7Nr3kNttHm7S",
    "pycharm": {
     "name": "#%%\n"
    }
   },
   "execution_count": 6,
   "outputs": []
  },
  {
   "cell_type": "markdown",
   "source": [
    "### Advantage\n",
    "In some sort of game, e.g. in **Dungeons & Dragons**, there is the concept of advantage rolls. That means, you do roll your dice twice and the ***better*** result counts!"
   ],
   "metadata": {
    "id": "WrIeHl2J6bsu",
    "pycharm": {
     "name": "#%% md\n"
    }
   }
  },
  {
   "cell_type": "code",
   "source": [
    "def advantage(die, number_dice):\n",
    "  \"\"\"\n",
    "  :param die: list of possible values of one die roll\n",
    "  :param number_dice: how many dice to be used\n",
    "  :return: all combinations possible\n",
    "  \"\"\"\n",
    "  return cartesian(cartesian(die, number_dice), 2, max)"
   ],
   "metadata": {
    "id": "Tk31-f4r13Sr",
    "pycharm": {
     "name": "#%%\n"
    }
   },
   "execution_count": 7,
   "outputs": []
  },
  {
   "cell_type": "markdown",
   "source": [
    "## Scenarios\n",
    "Now, let's look at different scenarios of rolling dice!"
   ],
   "metadata": {
    "id": "6xDqAzuADZ3t",
    "pycharm": {
     "name": "#%% md\n"
    }
   }
  },
  {
   "cell_type": "markdown",
   "source": [
    "### One die"
   ],
   "metadata": {
    "id": "hZsYD1Dy_nG8",
    "pycharm": {
     "name": "#%% md\n"
    }
   }
  },
  {
   "cell_type": "markdown",
   "source": [],
   "metadata": {
    "collapsed": false,
    "pycharm": {
     "name": "#%% md\n"
    }
   }
  },
  {
   "cell_type": "code",
   "source": [
    "plot(calc(d6), \"Odds for one die\")"
   ],
   "metadata": {
    "id": "QE0V2ZbpwXzV",
    "colab": {
     "base_uri": "https://localhost:8080/",
     "height": 399
    },
    "outputId": "cf67b696-b38c-499b-dddd-3fd2bad18601",
    "pycharm": {
     "name": "#%%\n"
    }
   },
   "execution_count": 8,
   "outputs": [
    {
     "data": {
      "text/plain": "<Figure size 432x288 with 1 Axes>",
      "image/png": "[encoded data removed]"
     },
     "metadata": {
      "needs_background": "light"
     },
     "output_type": "display_data"
    },
    {
     "name": "stdout",
     "output_type": "stream",
     "text": [
      "{1: 0.16666666666666666,\n",
      " 2: 0.16666666666666666,\n",
      " 3: 0.16666666666666666,\n",
      " 4: 0.16666666666666666,\n",
      " 5: 0.16666666666666666,\n",
      " 6: 0.16666666666666666}\n"
     ]
    }
   ]
  },
  {
   "cell_type": "markdown",
   "source": [
    "### 1 die with advantage"
   ],
   "metadata": {
    "collapsed": false,
    "pycharm": {
     "name": "#%% md\n"
    }
   }
  },
  {
   "cell_type": "code",
   "execution_count": 9,
   "outputs": [
    {
     "data": {
      "text/plain": "<Figure size 432x288 with 1 Axes>",
      "image/png": "[encoded data removed]"
     },
     "metadata": {
      "needs_background": "light"
     },
     "output_type": "display_data"
    },
    {
     "name": "stdout",
     "output_type": "stream",
     "text": [
      "{1: 0.027777777777777776,\n",
      " 2: 0.08333333333333333,\n",
      " 3: 0.1388888888888889,\n",
      " 4: 0.19444444444444445,\n",
      " 5: 0.25,\n",
      " 6: 0.3055555555555556}\n"
     ]
    }
   ],
   "source": [
    "plot(calc(d6, 1, advantage), \"Odds for one die with advantage\")"
   ],
   "metadata": {
    "collapsed": false,
    "pycharm": {
     "name": "#%%\n"
    }
   }
  },
  {
   "cell_type": "markdown",
   "source": [
    "### 2 dice"
   ],
   "metadata": {
    "id": "m_GPLkhl_iqb",
    "pycharm": {
     "name": "#%% md\n"
    }
   }
  },
  {
   "cell_type": "code",
   "source": [
    "plot(calc(d6, 2), \"Odds for two dice\")"
   ],
   "metadata": {
    "id": "zDtU6ZKCw67M",
    "colab": {
     "base_uri": "https://localhost:8080/",
     "height": 486
    },
    "outputId": "2cc5fdf2-ad96-40bf-ae33-564654a5e338",
    "pycharm": {
     "name": "#%%\n"
    }
   },
   "execution_count": 10,
   "outputs": [
    {
     "data": {
      "text/plain": "<Figure size 432x288 with 1 Axes>",
      "image/png": "[encoded data removed]"
     },
     "metadata": {
      "needs_background": "light"
     },
     "output_type": "display_data"
    },
    {
     "name": "stdout",
     "output_type": "stream",
     "text": [
      "{2: 0.027777777777777776,\n",
      " 3: 0.05555555555555555,\n",
      " 4: 0.08333333333333333,\n",
      " 5: 0.1111111111111111,\n",
      " 6: 0.1388888888888889,\n",
      " 7: 0.16666666666666666,\n",
      " 8: 0.1388888888888889,\n",
      " 9: 0.1111111111111111,\n",
      " 10: 0.08333333333333333,\n",
      " 11: 0.05555555555555555,\n",
      " 12: 0.027777777777777776}\n"
     ]
    }
   ]
  },
  {
   "cell_type": "markdown",
   "source": [
    "### 2 dice with advantage"
   ],
   "metadata": {
    "collapsed": false,
    "pycharm": {
     "name": "#%% md\n"
    }
   }
  },
  {
   "cell_type": "code",
   "execution_count": 11,
   "outputs": [
    {
     "data": {
      "text/plain": "<Figure size 432x288 with 1 Axes>",
      "image/png": "[encoded data removed]"
     },
     "metadata": {
      "needs_background": "light"
     },
     "output_type": "display_data"
    },
    {
     "name": "stdout",
     "output_type": "stream",
     "text": [
      "{2: 0.0007716049382716049,\n",
      " 3: 0.006172839506172839,\n",
      " 4: 0.020833333333333332,\n",
      " 5: 0.04938271604938271,\n",
      " 6: 0.09645061728395062,\n",
      " 7: 0.16666666666666666,\n",
      " 8: 0.18132716049382716,\n",
      " 9: 0.1728395061728395,\n",
      " 10: 0.14583333333333334,\n",
      " 11: 0.10493827160493827,\n",
      " 12: 0.05478395061728395}\n"
     ]
    }
   ],
   "source": [
    "plot(calc(d6, 2, advantage), \"Odds for two dice with advantage\")"
   ],
   "metadata": {
    "collapsed": false,
    "pycharm": {
     "name": "#%%\n"
    }
   }
  },
  {
   "cell_type": "markdown",
   "source": [
    "### 4 dice"
   ],
   "metadata": {
    "id": "yKvgMM6H_VeT",
    "pycharm": {
     "name": "#%% md\n"
    }
   }
  },
  {
   "cell_type": "code",
   "source": [
    "plot(calc(d6, 4), \"Odds for four dice\")"
   ],
   "metadata": {
    "colab": {
     "base_uri": "https://localhost:8080/",
     "height": 660
    },
    "id": "KRI883PW9GoX",
    "outputId": "92939c53-43d3-475e-df35-d9d7d0ec3189",
    "pycharm": {
     "name": "#%%\n"
    }
   },
   "execution_count": 12,
   "outputs": [
    {
     "data": {
      "text/plain": "<Figure size 432x288 with 1 Axes>",
      "image/png": "[encoded data removed]"
     },
     "metadata": {
      "needs_background": "light"
     },
     "output_type": "display_data"
    },
    {
     "name": "stdout",
     "output_type": "stream",
     "text": [
      "{4: 0.0007716049382716049,\n",
      " 5: 0.0030864197530864196,\n",
      " 6: 0.007716049382716049,\n",
      " 7: 0.015432098765432098,\n",
      " 8: 0.02700617283950617,\n",
      " 9: 0.043209876543209874,\n",
      " 10: 0.06172839506172839,\n",
      " 11: 0.08024691358024691,\n",
      " 12: 0.09645061728395062,\n",
      " 13: 0.10802469135802469,\n",
      " 14: 0.11265432098765432,\n",
      " 15: 0.10802469135802469,\n",
      " 16: 0.09645061728395062,\n",
      " 17: 0.08024691358024691,\n",
      " 18: 0.06172839506172839,\n",
      " 19: 0.043209876543209874,\n",
      " 20: 0.02700617283950617,\n",
      " 21: 0.015432098765432098,\n",
      " 22: 0.007716049382716049,\n",
      " 23: 0.0030864197530864196,\n",
      " 24: 0.0007716049382716049}\n"
     ]
    }
   ]
  },
  {
   "cell_type": "markdown",
   "source": [],
   "metadata": {
    "id": "Cv8CRgdh-4fq",
    "pycharm": {
     "name": "#%% md\n"
    }
   }
  },
  {
   "cell_type": "markdown",
   "source": [
    "### 4 dice with advantage"
   ],
   "metadata": {
    "id": "ESEa7p4c-sFK",
    "pycharm": {
     "name": "#%% md\n"
    }
   }
  },
  {
   "cell_type": "code",
   "source": [
    "plot(calc(d6, 4, advantage), \"Odds for four dice with advantage\")"
   ],
   "metadata": {
    "colab": {
     "base_uri": "https://localhost:8080/",
     "height": 660
    },
    "id": "Z1KZJoNu9nQB",
    "outputId": "ad87dd3a-b4f1-4d25-f5a4-305b3c670c4c",
    "pycharm": {
     "name": "#%%\n"
    }
   },
   "execution_count": 13,
   "outputs": [
    {
     "data": {
      "text/plain": "<Figure size 432x288 with 1 Axes>",
      "image/png": "[encoded data removed]"
     },
     "metadata": {
      "needs_background": "light"
     },
     "output_type": "display_data"
    },
    {
     "name": "stdout",
     "output_type": "stream",
     "text": [
      "{4: 5.953741807651273e-07,\n",
      " 5: 1.4288980338363054e-05,\n",
      " 6: 0.00011907483615302546,\n",
      " 7: 0.0005953741807651272,\n",
      " 8: 0.002188000114311843,\n",
      " 9: 0.0065348270080780365,\n",
      " 10: 0.01581313824112178,\n",
      " 11: 0.03195016003657979,\n",
      " 12: 0.05544422058375248,\n",
      " 13: 0.08418590916018899,\n",
      " 14: 0.11265432098765432,\n",
      " 15: 0.1318634735558604,\n",
      " 16: 0.13745701398414875,\n",
      " 17: 0.12854366712391405,\n",
      " 18: 0.107643651882335,\n",
      " 19: 0.07988492607834172,\n",
      " 20: 0.0518243455647005,\n",
      " 21: 0.03026882335009907,\n",
      " 22: 0.015313023929279074,\n",
      " 23: 0.006158550525834476,\n",
      " 24: 0.0015426145023624447}\n"
     ]
    }
   ]
  }
 ]
}