{
 "cells": [
  {
   "cell_type": "markdown",
   "metadata": {
    "id": "253kUa6zPPU1",
    "pycharm": {
     "name": "#%% md\n"
    }
   },
   "source": [
    "# Odds for dice rolls"
   ]
  },
  {
   "cell_type": "markdown",
   "metadata": {},
   "source": [
    "## 1. Some source code"
   ]
  },
  {
   "cell_type": "markdown",
   "metadata": {},
   "source": [
    "### a) Cartesian Product"
   ]
  },
  {
   "cell_type": "code",
   "execution_count": null,
   "metadata": {},
   "outputs": [],
   "source": [
    "def cartesian(die, number_dice=1, acc_func=lambda x, y: x + y):\n",
    "    \"\"\"\n",
    "    :param die: list of possible values of one die roll\n",
    "    :param number_dice: how many dice to be used\n",
    "    :param acc_func: function for accumulating the values from both dice\n",
    "    :return: list of all possible combinations of results for the dice roll\n",
    "    \"\"\"\n",
    "    if number_dice < 1:\n",
    "        return []\n",
    "\n",
    "    if number_dice == 1:\n",
    "        return die\n",
    "\n",
    "    accumulated = []\n",
    "    for x in cartesian(die, number_dice - 1, acc_func):\n",
    "        for y in die:\n",
    "            accumulated.append(acc_func(x, y))\n",
    "\n",
    "    return accumulated"
   ]
  },
  {
   "cell_type": "markdown",
   "metadata": {},
   "source": [
    "### b) Advantage"
   ]
  },
  {
   "cell_type": "code",
   "execution_count": null,
   "metadata": {},
   "outputs": [],
   "source": [
    "def advantage(die, number_dice):\n",
    "    return cartesian(cartesian(die, number_dice), 2, max)"
   ]
  },
  {
   "cell_type": "markdown",
   "metadata": {},
   "source": [
    "### c) Run calculations"
   ]
  },
  {
   "cell_type": "code",
   "execution_count": null,
   "metadata": {},
   "outputs": [],
   "source": [
    "def calc(die, number_dice=1, roll_func=lambda d, n: cartesian(d, n)):\n",
    "    \"\"\"\n",
    "    :param die: list of possible values of one die roll\n",
    "    :param number_dice: how many dice to be used\n",
    "    :param roll_func: function for determining all possible combinations\n",
    "    :return: a dictionary with distinct results and their probability of occurrence\n",
    "    \"\"\"\n",
    "    def group_numbers(unordered):\n",
    "        grouped = {}\n",
    "        for x in unordered:\n",
    "            if x in grouped.keys():\n",
    "                grouped[x] = grouped[x] + 1\n",
    "            else:\n",
    "                grouped[x] = 1\n",
    "\n",
    "        return grouped\n",
    "    \n",
    "    def odds(grouped):\n",
    "        total = sum(grouped.values())\n",
    "\n",
    "        result = {}\n",
    "        for k in grouped.keys():\n",
    "            result[k] = grouped[k] / total\n",
    "\n",
    "        return result\n",
    "\n",
    "    return odds( group_numbers( roll_func(die, number_dice) ) )"
   ]
  },
  {
   "cell_type": "markdown",
   "metadata": {},
   "source": [
    "### d) Plotting the results"
   ]
  },
  {
   "cell_type": "code",
   "execution_count": null,
   "metadata": {},
   "outputs": [],
   "source": [
    "import matplotlib.pyplot as plt\n",
    "\n",
    "def plot_data_adv(data_normal, data_adv, title):\n",
    "    \"\"\"\n",
    "    :param data_normal: dictionary to be plotted\n",
    "    :param data_adv: same count of dice, just with advantage\n",
    "    :param title: individual title for the diagram\n",
    "    \"\"\"\n",
    "    plt.title(title)\n",
    "    plt.xlabel(\"Roll\")\n",
    "    plt.ylabel(\"Occurrence\")\n",
    "    plt.plot(data_normal.keys(), data_normal.values(), color=\"b\", label='normal')\n",
    "    plt.plot(data_adv.keys(), data_adv.values(), color=\"r\", label='advantage')\n",
    "    plt.legend()\n",
    "    plt.show()"
   ]
  },
  {
   "cell_type": "markdown",
   "metadata": {},
   "source": [
    "### e) Die definition"
   ]
  },
  {
   "cell_type": "code",
   "execution_count": null,
   "metadata": {
    "colab": {
     "base_uri": "https://localhost:8080/"
    },
    "id": "5BQeEC6uGHSx",
    "outputId": "dbc6531f-ce3d-49a8-b48e-e4e0545d7b2d",
    "pycharm": {
     "name": "#%%\n"
    }
   },
   "outputs": [],
   "source": [
    "d6 = range(1, 7)"
   ]
  },
  {
   "cell_type": "markdown",
   "metadata": {},
   "source": [
    "## 2. Results"
   ]
  },
  {
   "cell_type": "markdown",
   "metadata": {},
   "source": [
    "### a) One die"
   ]
  },
  {
   "cell_type": "code",
   "execution_count": null,
   "metadata": {
    "collapsed": false,
    "pycharm": {
     "name": "#%%\n"
    }
   },
   "outputs": [],
   "source": [
    "plot_data_adv(\n",
    "    calc(d6),\n",
    "    calc(d6, roll_func=advantage),\n",
    "    \"One die\"\n",
    ")"
   ]
  },
  {
   "cell_type": "markdown",
   "metadata": {},
   "source": [
    "### b) Two dice"
   ]
  },
  {
   "cell_type": "code",
   "execution_count": null,
   "metadata": {
    "collapsed": false,
    "pycharm": {
     "name": "#%%\n"
    }
   },
   "outputs": [],
   "source": [
    "plot_data_adv(\n",
    "    calc(d6, 2),\n",
    "    calc(d6, 2, advantage),\n",
    "    \"Two dice\"\n",
    ")"
   ]
  },
  {
   "cell_type": "markdown",
   "metadata": {},
   "source": [
    "### c) Four dice"
   ]
  },
  {
   "cell_type": "code",
   "execution_count": null,
   "metadata": {
    "collapsed": false,
    "pycharm": {
     "name": "#%%\n"
    }
   },
   "outputs": [],
   "source": [
    "plot_data_adv(\n",
    "    calc(d6, 4),\n",
    "    calc(d6, 4, advantage),\n",
    "    \"Four dice\"\n",
    ")"
   ]
  }
 ],
 "metadata": {
  "colab": {
   "authorship_tag": "ABX9TyPcSYdlerRMpW61vDSYckQF",
   "provenance": [],
   "toc_visible": true
  },
  "kernelspec": {
   "display_name": "Python 3",
   "name": "python3"
  },
  "language_info": {
   "codemirror_mode": {
    "name": "ipython",
    "version": 3
   },
   "file_extension": ".py",
   "mimetype": "text/x-python",
   "name": "python",
   "nbconvert_exporter": "python",
   "pygments_lexer": "ipython3",
   "version": "3.12.0"
  }
 },
 "nbformat": 4,
 "nbformat_minor": 0
}
